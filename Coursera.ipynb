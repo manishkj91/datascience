{
  "nbformat": 4,
  "nbformat_minor": 0,
  "metadata": {
    "colab": {
      "name": "Coursera.ipynb",
      "provenance": []
    },
    "kernelspec": {
      "name": "python3",
      "display_name": "Python 3"
    }
  },
  "cells": [
    {
      "cell_type": "code",
      "metadata": {
        "id": "t5FOWUmODq49",
        "colab_type": "code",
        "colab": {}
      },
      "source": [
        ""
      ],
      "execution_count": 0,
      "outputs": []
    },
    {
      "cell_type": "markdown",
      "metadata": {
        "id": "ukhG4fp0D9Oz",
        "colab_type": "text"
      },
      "source": [
        "This is markdown file for coursera capstone course \n"
      ]
    },
    {
      "cell_type": "code",
      "metadata": {
        "id": "1v6sih3hELAR",
        "colab_type": "code",
        "colab": {}
      },
      "source": [
        "import panda as pd\n",
        "import numpy as np\n",
        "\n",
        "print(\"Hello Capstone Project Course!\")\n"
      ],
      "execution_count": 0,
      "outputs": []
    },
    {
      "cell_type": "markdown",
      "metadata": {
        "id": "V2Lr8ueED8ru",
        "colab_type": "text"
      },
      "source": [
        ""
      ]
    }
  ]
}